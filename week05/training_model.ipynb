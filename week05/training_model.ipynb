{
 "nbformat": 4,
 "nbformat_minor": 0,
 "metadata": {
  "colab": {
   "provenance": []
  },
  "kernelspec": {
   "name": "python3",
   "display_name": "Python 3"
  },
  "language_info": {
   "name": "python"
  }
 },
 "cells": [
  {
   "cell_type": "markdown",
   "source": [
    "Import Library"
   ],
   "metadata": {
    "id": "g9uJgVlW31Tx"
   }
  },
  {
   "cell_type": "code",
   "metadata": {
    "colab": {
     "base_uri": "https://localhost:8080/"
    },
    "id": "LiFwjDwGpFa8",
    "outputId": "7b2d6836-1da1-419b-ee03-e142bbfed2c8",
    "ExecuteTime": {
     "end_time": "2025-06-13T18:20:21.981358Z",
     "start_time": "2025-06-13T18:20:00.690043Z"
    }
   },
   "source": [
    "import tensorflow as tf\n",
    "from tensorflow.keras.preprocessing.text import Tokenizer\n",
    "from tensorflow.keras.preprocessing.sequence import pad_sequences\n",
    "from sklearn.model_selection import train_test_split\n",
    "import pandas as pd\n",
    "import numpy as np\n",
    "import string\n",
    "import re\n",
    "import csv\n",
    "import nltk\n",
    "import requests\n",
    "from nltk.corpus import stopwords\n",
    "from nltk.tokenize import word_tokenize\n",
    "\n",
    "nltk.download('punkt')\n",
    "nltk.download('punkt_tab')\n",
    "nltk.download('stopwords')"
   ],
   "outputs": [],
   "execution_count": 1
  },
  {
   "cell_type": "markdown",
   "source": [
    "Memuat Dataset"
   ],
   "metadata": {
    "id": "u3iUGN2R3ysN"
   }
  },
  {
   "cell_type": "code",
   "source": [
    "app_reviews_df = pd.read_csv('Ulasan_Aplikasi_Tiktok.csv')\n",
    "app_reviews_df.head()"
   ],
   "metadata": {
    "colab": {
     "base_uri": "https://localhost:8080/",
     "height": 293
    },
    "id": "sRPWlQoLT3rX",
    "outputId": "616dc960-8151-40df-a85f-dcee1fd3a8f0",
    "ExecuteTime": {
     "end_time": "2025-06-13T18:20:28.331726Z",
     "start_time": "2025-06-13T18:20:28.238925Z"
    }
   },
   "outputs": [
    {
     "data": {
      "text/plain": [
       "                               reviewId         userName  \\\n",
       "0  4bf715bb-c9c0-4d81-8e2c-3791fe34ca9b  Pengguna Google   \n",
       "1  abbd86af-67c3-4c26-965c-f4b001554ae5  Pengguna Google   \n",
       "2  b0f98638-ea55-40ba-acf5-9c10677d5860  Pengguna Google   \n",
       "3  ac829602-f43b-4ddd-926d-a6e30345c148  Pengguna Google   \n",
       "4  48f6e86e-cdf0-436f-bb25-2cf9c60dd450  Pengguna Google   \n",
       "\n",
       "                                           userImage  \\\n",
       "0  https://play-lh.googleusercontent.com/EGemoI2N...   \n",
       "1  https://play-lh.googleusercontent.com/EGemoI2N...   \n",
       "2  https://play-lh.googleusercontent.com/EGemoI2N...   \n",
       "3  https://play-lh.googleusercontent.com/EGemoI2N...   \n",
       "4  https://play-lh.googleusercontent.com/EGemoI2N...   \n",
       "\n",
       "                    content  score  thumbsUpCount reviewCreatedVersion  \\\n",
       "0                        ok      5              0               39.8.4   \n",
       "1                  personal      1              0                  NaN   \n",
       "2                        Ok      4              0                  NaN   \n",
       "3  ya itu harus profesional      5              0                  NaN   \n",
       "4              sangat bagus      5              0                  NaN   \n",
       "\n",
       "                    at replyContent repliedAt appVersion  \n",
       "0  2025-05-14 06:56:52          NaN       NaN     39.8.4  \n",
       "1  2025-05-14 03:01:16          NaN       NaN        NaN  \n",
       "2  2025-05-14 00:18:30          NaN       NaN        NaN  \n",
       "3  2025-05-13 23:03:42          NaN       NaN        NaN  \n",
       "4  2025-05-13 11:17:58          NaN       NaN        NaN  "
      ],
      "text/html": [
       "<div>\n",
       "<style scoped>\n",
       "    .dataframe tbody tr th:only-of-type {\n",
       "        vertical-align: middle;\n",
       "    }\n",
       "\n",
       "    .dataframe tbody tr th {\n",
       "        vertical-align: top;\n",
       "    }\n",
       "\n",
       "    .dataframe thead th {\n",
       "        text-align: right;\n",
       "    }\n",
       "</style>\n",
       "<table border=\"1\" class=\"dataframe\">\n",
       "  <thead>\n",
       "    <tr style=\"text-align: right;\">\n",
       "      <th></th>\n",
       "      <th>reviewId</th>\n",
       "      <th>userName</th>\n",
       "      <th>userImage</th>\n",
       "      <th>content</th>\n",
       "      <th>score</th>\n",
       "      <th>thumbsUpCount</th>\n",
       "      <th>reviewCreatedVersion</th>\n",
       "      <th>at</th>\n",
       "      <th>replyContent</th>\n",
       "      <th>repliedAt</th>\n",
       "      <th>appVersion</th>\n",
       "    </tr>\n",
       "  </thead>\n",
       "  <tbody>\n",
       "    <tr>\n",
       "      <th>0</th>\n",
       "      <td>4bf715bb-c9c0-4d81-8e2c-3791fe34ca9b</td>\n",
       "      <td>Pengguna Google</td>\n",
       "      <td>https://play-lh.googleusercontent.com/EGemoI2N...</td>\n",
       "      <td>ok</td>\n",
       "      <td>5</td>\n",
       "      <td>0</td>\n",
       "      <td>39.8.4</td>\n",
       "      <td>2025-05-14 06:56:52</td>\n",
       "      <td>NaN</td>\n",
       "      <td>NaN</td>\n",
       "      <td>39.8.4</td>\n",
       "    </tr>\n",
       "    <tr>\n",
       "      <th>1</th>\n",
       "      <td>abbd86af-67c3-4c26-965c-f4b001554ae5</td>\n",
       "      <td>Pengguna Google</td>\n",
       "      <td>https://play-lh.googleusercontent.com/EGemoI2N...</td>\n",
       "      <td>personal</td>\n",
       "      <td>1</td>\n",
       "      <td>0</td>\n",
       "      <td>NaN</td>\n",
       "      <td>2025-05-14 03:01:16</td>\n",
       "      <td>NaN</td>\n",
       "      <td>NaN</td>\n",
       "      <td>NaN</td>\n",
       "    </tr>\n",
       "    <tr>\n",
       "      <th>2</th>\n",
       "      <td>b0f98638-ea55-40ba-acf5-9c10677d5860</td>\n",
       "      <td>Pengguna Google</td>\n",
       "      <td>https://play-lh.googleusercontent.com/EGemoI2N...</td>\n",
       "      <td>Ok</td>\n",
       "      <td>4</td>\n",
       "      <td>0</td>\n",
       "      <td>NaN</td>\n",
       "      <td>2025-05-14 00:18:30</td>\n",
       "      <td>NaN</td>\n",
       "      <td>NaN</td>\n",
       "      <td>NaN</td>\n",
       "    </tr>\n",
       "    <tr>\n",
       "      <th>3</th>\n",
       "      <td>ac829602-f43b-4ddd-926d-a6e30345c148</td>\n",
       "      <td>Pengguna Google</td>\n",
       "      <td>https://play-lh.googleusercontent.com/EGemoI2N...</td>\n",
       "      <td>ya itu harus profesional</td>\n",
       "      <td>5</td>\n",
       "      <td>0</td>\n",
       "      <td>NaN</td>\n",
       "      <td>2025-05-13 23:03:42</td>\n",
       "      <td>NaN</td>\n",
       "      <td>NaN</td>\n",
       "      <td>NaN</td>\n",
       "    </tr>\n",
       "    <tr>\n",
       "      <th>4</th>\n",
       "      <td>48f6e86e-cdf0-436f-bb25-2cf9c60dd450</td>\n",
       "      <td>Pengguna Google</td>\n",
       "      <td>https://play-lh.googleusercontent.com/EGemoI2N...</td>\n",
       "      <td>sangat bagus</td>\n",
       "      <td>5</td>\n",
       "      <td>0</td>\n",
       "      <td>NaN</td>\n",
       "      <td>2025-05-13 11:17:58</td>\n",
       "      <td>NaN</td>\n",
       "      <td>NaN</td>\n",
       "      <td>NaN</td>\n",
       "    </tr>\n",
       "  </tbody>\n",
       "</table>\n",
       "</div>"
      ]
     },
     "execution_count": 2,
     "metadata": {},
     "output_type": "execute_result"
    }
   ],
   "execution_count": 2
  },
  {
   "cell_type": "code",
   "source": [
    "app_reviews_df.head()"
   ],
   "metadata": {
    "colab": {
     "base_uri": "https://localhost:8080/",
     "height": 293
    },
    "id": "t2KOYeea-zAg",
    "outputId": "d3af1dcf-9323-47e5-9ec7-e15d5931cdac",
    "ExecuteTime": {
     "end_time": "2025-06-13T18:20:34.782225Z",
     "start_time": "2025-06-13T18:20:34.771960Z"
    }
   },
   "outputs": [
    {
     "data": {
      "text/plain": [
       "                               reviewId         userName  \\\n",
       "0  4bf715bb-c9c0-4d81-8e2c-3791fe34ca9b  Pengguna Google   \n",
       "1  abbd86af-67c3-4c26-965c-f4b001554ae5  Pengguna Google   \n",
       "2  b0f98638-ea55-40ba-acf5-9c10677d5860  Pengguna Google   \n",
       "3  ac829602-f43b-4ddd-926d-a6e30345c148  Pengguna Google   \n",
       "4  48f6e86e-cdf0-436f-bb25-2cf9c60dd450  Pengguna Google   \n",
       "\n",
       "                                           userImage  \\\n",
       "0  https://play-lh.googleusercontent.com/EGemoI2N...   \n",
       "1  https://play-lh.googleusercontent.com/EGemoI2N...   \n",
       "2  https://play-lh.googleusercontent.com/EGemoI2N...   \n",
       "3  https://play-lh.googleusercontent.com/EGemoI2N...   \n",
       "4  https://play-lh.googleusercontent.com/EGemoI2N...   \n",
       "\n",
       "                    content  score  thumbsUpCount reviewCreatedVersion  \\\n",
       "0                        ok      5              0               39.8.4   \n",
       "1                  personal      1              0                  NaN   \n",
       "2                        Ok      4              0                  NaN   \n",
       "3  ya itu harus profesional      5              0                  NaN   \n",
       "4              sangat bagus      5              0                  NaN   \n",
       "\n",
       "                    at replyContent repliedAt appVersion  \n",
       "0  2025-05-14 06:56:52          NaN       NaN     39.8.4  \n",
       "1  2025-05-14 03:01:16          NaN       NaN        NaN  \n",
       "2  2025-05-14 00:18:30          NaN       NaN        NaN  \n",
       "3  2025-05-13 23:03:42          NaN       NaN        NaN  \n",
       "4  2025-05-13 11:17:58          NaN       NaN        NaN  "
      ],
      "text/html": [
       "<div>\n",
       "<style scoped>\n",
       "    .dataframe tbody tr th:only-of-type {\n",
       "        vertical-align: middle;\n",
       "    }\n",
       "\n",
       "    .dataframe tbody tr th {\n",
       "        vertical-align: top;\n",
       "    }\n",
       "\n",
       "    .dataframe thead th {\n",
       "        text-align: right;\n",
       "    }\n",
       "</style>\n",
       "<table border=\"1\" class=\"dataframe\">\n",
       "  <thead>\n",
       "    <tr style=\"text-align: right;\">\n",
       "      <th></th>\n",
       "      <th>reviewId</th>\n",
       "      <th>userName</th>\n",
       "      <th>userImage</th>\n",
       "      <th>content</th>\n",
       "      <th>score</th>\n",
       "      <th>thumbsUpCount</th>\n",
       "      <th>reviewCreatedVersion</th>\n",
       "      <th>at</th>\n",
       "      <th>replyContent</th>\n",
       "      <th>repliedAt</th>\n",
       "      <th>appVersion</th>\n",
       "    </tr>\n",
       "  </thead>\n",
       "  <tbody>\n",
       "    <tr>\n",
       "      <th>0</th>\n",
       "      <td>4bf715bb-c9c0-4d81-8e2c-3791fe34ca9b</td>\n",
       "      <td>Pengguna Google</td>\n",
       "      <td>https://play-lh.googleusercontent.com/EGemoI2N...</td>\n",
       "      <td>ok</td>\n",
       "      <td>5</td>\n",
       "      <td>0</td>\n",
       "      <td>39.8.4</td>\n",
       "      <td>2025-05-14 06:56:52</td>\n",
       "      <td>NaN</td>\n",
       "      <td>NaN</td>\n",
       "      <td>39.8.4</td>\n",
       "    </tr>\n",
       "    <tr>\n",
       "      <th>1</th>\n",
       "      <td>abbd86af-67c3-4c26-965c-f4b001554ae5</td>\n",
       "      <td>Pengguna Google</td>\n",
       "      <td>https://play-lh.googleusercontent.com/EGemoI2N...</td>\n",
       "      <td>personal</td>\n",
       "      <td>1</td>\n",
       "      <td>0</td>\n",
       "      <td>NaN</td>\n",
       "      <td>2025-05-14 03:01:16</td>\n",
       "      <td>NaN</td>\n",
       "      <td>NaN</td>\n",
       "      <td>NaN</td>\n",
       "    </tr>\n",
       "    <tr>\n",
       "      <th>2</th>\n",
       "      <td>b0f98638-ea55-40ba-acf5-9c10677d5860</td>\n",
       "      <td>Pengguna Google</td>\n",
       "      <td>https://play-lh.googleusercontent.com/EGemoI2N...</td>\n",
       "      <td>Ok</td>\n",
       "      <td>4</td>\n",
       "      <td>0</td>\n",
       "      <td>NaN</td>\n",
       "      <td>2025-05-14 00:18:30</td>\n",
       "      <td>NaN</td>\n",
       "      <td>NaN</td>\n",
       "      <td>NaN</td>\n",
       "    </tr>\n",
       "    <tr>\n",
       "      <th>3</th>\n",
       "      <td>ac829602-f43b-4ddd-926d-a6e30345c148</td>\n",
       "      <td>Pengguna Google</td>\n",
       "      <td>https://play-lh.googleusercontent.com/EGemoI2N...</td>\n",
       "      <td>ya itu harus profesional</td>\n",
       "      <td>5</td>\n",
       "      <td>0</td>\n",
       "      <td>NaN</td>\n",
       "      <td>2025-05-13 23:03:42</td>\n",
       "      <td>NaN</td>\n",
       "      <td>NaN</td>\n",
       "      <td>NaN</td>\n",
       "    </tr>\n",
       "    <tr>\n",
       "      <th>4</th>\n",
       "      <td>48f6e86e-cdf0-436f-bb25-2cf9c60dd450</td>\n",
       "      <td>Pengguna Google</td>\n",
       "      <td>https://play-lh.googleusercontent.com/EGemoI2N...</td>\n",
       "      <td>sangat bagus</td>\n",
       "      <td>5</td>\n",
       "      <td>0</td>\n",
       "      <td>NaN</td>\n",
       "      <td>2025-05-13 11:17:58</td>\n",
       "      <td>NaN</td>\n",
       "      <td>NaN</td>\n",
       "      <td>NaN</td>\n",
       "    </tr>\n",
       "  </tbody>\n",
       "</table>\n",
       "</div>"
      ]
     },
     "execution_count": 3,
     "metadata": {},
     "output_type": "execute_result"
    }
   ],
   "execution_count": 3
  },
  {
   "cell_type": "code",
   "source": [
    "app_reviews_df.info()"
   ],
   "metadata": {
    "colab": {
     "base_uri": "https://localhost:8080/"
    },
    "id": "-DShAoJd_IrB",
    "outputId": "6b595699-5b2d-4ce1-c002-d37767a69ba6",
    "ExecuteTime": {
     "end_time": "2025-06-13T18:20:38.572490Z",
     "start_time": "2025-06-13T18:20:38.548032Z"
    }
   },
   "outputs": [
    {
     "name": "stdout",
     "output_type": "stream",
     "text": [
      "<class 'pandas.core.frame.DataFrame'>\n",
      "RangeIndex: 9000 entries, 0 to 8999\n",
      "Data columns (total 11 columns):\n",
      " #   Column                Non-Null Count  Dtype \n",
      "---  ------                --------------  ----- \n",
      " 0   reviewId              9000 non-null   object\n",
      " 1   userName              9000 non-null   object\n",
      " 2   userImage             9000 non-null   object\n",
      " 3   content               9000 non-null   object\n",
      " 4   score                 9000 non-null   int64 \n",
      " 5   thumbsUpCount         9000 non-null   int64 \n",
      " 6   reviewCreatedVersion  5390 non-null   object\n",
      " 7   at                    9000 non-null   object\n",
      " 8   replyContent          1 non-null      object\n",
      " 9   repliedAt             1 non-null      object\n",
      " 10  appVersion            5390 non-null   object\n",
      "dtypes: int64(2), object(9)\n",
      "memory usage: 773.6+ KB\n"
     ]
    }
   ],
   "execution_count": 4
  },
  {
   "cell_type": "code",
   "source": [
    "def cleaningText(text):\n",
    "    text = re.sub(r'@[A-Za-z0-9]+', '', text)\n",
    "    text = re.sub(r'#[A-Za-z0-9]+', '', text)\n",
    "    text = re.sub(r'RT[\\s]', '', text)\n",
    "    text = re.sub(r'http\\S+', '', text)\n",
    "    text = re.sub(r'[0-9]+', '', text)\n",
    "    text = re.sub(r'[^\\w\\s]', '', text)\n",
    "    text = text.replace('\\n', ' ')\n",
    "    text = text.strip(' ')\n",
    "    text = text.lower()\n",
    "    return text\n",
    "\n",
    "app_reviews_df['content'] = app_reviews_df['content'].apply(cleaningText)"
   ],
   "metadata": {
    "id": "7k1xTxSHKZlw"
   },
   "execution_count": 7,
   "outputs": []
  },
  {
   "cell_type": "code",
   "source": [
    "def casefoldingText(text):\n",
    "    text = text.lower()\n",
    "    return text"
   ],
   "metadata": {
    "id": "NComotVGHVmi"
   },
   "execution_count": 8,
   "outputs": []
  },
  {
   "cell_type": "code",
   "source": [
    "def tokenizingText(text):\n",
    "    text = word_tokenize(text)\n",
    "    return text"
   ],
   "metadata": {
    "id": "LIjRBBHzHfi7"
   },
   "execution_count": 9,
   "outputs": []
  },
  {
   "cell_type": "code",
   "source": [
    "def filteringText(text):\n",
    "    listStopwords = set(stopwords.words('indonesian'))\n",
    "    listStopwords1 = set(stopwords.words('english'))\n",
    "    listStopwords.update(listStopwords1)\n",
    "    listStopwords.update(['iya','yaa','gak','nya','na','sih','ku',\"di\",\"ga\",\"ya\",\"gaa\",\"loh\",\"kah\",\"woi\",\"woii\",\"woy\"])\n",
    "    filtered = []\n",
    "    for txt in text:\n",
    "        if txt not in listStopwords:\n",
    "            filtered.append(txt)\n",
    "    text = filtered\n",
    "    return text"
   ],
   "metadata": {
    "id": "EzcZxoZLHh97"
   },
   "execution_count": 10,
   "outputs": []
  },
  {
   "cell_type": "code",
   "source": [
    "def stemmingText(text):\n",
    "    factory = StemmerFactory()\n",
    "    stemmer = factory.create_stemmer()\n",
    "\n",
    "    words = text.split()\n",
    "    stemmed_words = [stemmer.stem(word) for word in words]\n",
    "    stemmed_text = ' '.join(stemmed_words)\n",
    "\n",
    "    return stemmed_text"
   ],
   "metadata": {
    "id": "zsHnzlsbHk7k"
   },
   "execution_count": 11,
   "outputs": []
  },
  {
   "cell_type": "code",
   "source": [
    "def toSentence(list_words):\n",
    "    sentence = ' '.join(word for word in list_words)\n",
    "    return sentence"
   ],
   "metadata": {
    "id": "QKgz-NWYHnmB"
   },
   "execution_count": 12,
   "outputs": []
  },
  {
   "cell_type": "code",
   "source": [
    "slangwords = {\"@\": \"di\", \"abis\": \"habis\", \"wtb\": \"beli\", \"masi\": \"masih\", \"wts\": \"jual\", \"wtt\": \"tukar\", \"bgt\": \"banget\", \"maks\": \"maksimal\"}\n",
    "def fix_slangwords(text):\n",
    "    words = text.split()\n",
    "    fixed_words = []\n",
    "\n",
    "    for word in words:\n",
    "        if word.lower() in slangwords:\n",
    "            fixed_words.append(slangwords[word.lower()])\n",
    "        else:\n",
    "            fixed_words.append(word)\n",
    "\n",
    "    fixed_text = ' '.join(fixed_words)\n",
    "    return fixed_text"
   ],
   "metadata": {
    "id": "hg6o1Sb_Hpzf"
   },
   "execution_count": 13,
   "outputs": []
  },
  {
   "cell_type": "code",
   "source": [
    "app_reviews_df['text_clean'] = app_reviews_df['content'].apply(cleaningText)\n",
    "app_reviews_df['text_casefoldingText'] = app_reviews_df['text_clean'].apply(casefoldingText)\n",
    "app_reviews_df['text_slangwords'] = app_reviews_df['text_casefoldingText'].apply(fix_slangwords)\n",
    "app_reviews_df['text_tokenizingText'] = app_reviews_df['text_slangwords'].apply(tokenizingText)\n",
    "app_reviews_df['text_stopword'] = app_reviews_df['text_tokenizingText'].apply(filteringText)\n",
    "app_reviews_df['text_akhir'] = app_reviews_df['text_stopword'].apply(toSentence)"
   ],
   "metadata": {
    "id": "GyS_IqEwHs5f"
   },
   "execution_count": 14,
   "outputs": []
  },
  {
   "cell_type": "code",
   "source": [
    "clean_df = app_reviews_df.drop_duplicates(subset=['text_akhir']).dropna(subset=['text_akhir'])\n",
    "\n",
    "jumlah_ulasan_setelah_hapus_duplikat, jumlah_kolom_setelah_hapus_duplikat = clean_df.shape\n",
    "print(f\"Jumlah ulasan setelah hapus duplikat: {jumlah_ulasan_setelah_hapus_duplikat}\")\n",
    "print(f\"Jumlah kolom setelah hapus duplikat: {jumlah_kolom_setelah_hapus_duplikat}\")"
   ],
   "metadata": {
    "colab": {
     "base_uri": "https://localhost:8080/"
    },
    "id": "OsqTbRv5L1tC",
    "outputId": "14a98ab5-5ada-417a-9163-5ff470dc093d"
   },
   "execution_count": 15,
   "outputs": [
    {
     "output_type": "stream",
     "name": "stdout",
     "text": [
      "Jumlah ulasan setelah hapus duplikat: 5182\n",
      "Jumlah kolom setelah hapus duplikat: 17\n"
     ]
    }
   ]
  },
  {
   "cell_type": "markdown",
   "source": [
    "Pelabelan Sentimen"
   ],
   "metadata": {
    "id": "p1oAjEcQbh2g"
   }
  },
  {
   "cell_type": "code",
   "source": [
    "lexicon_negative = dict()\n",
    "response_neg = requests.get('https://raw.githubusercontent.com/angelmetanosaa/dataset/main/lexicon_negative.csv')\n",
    "\n",
    "if response_neg.status_code == 200:\n",
    "    reader_neg = csv.reader(StringIO(response_neg.text), delimiter=',')\n",
    "\n",
    "    for row in reader_neg:\n",
    "        lexicon_negative[row[0]] = int(row[1])\n",
    "else:\n",
    "    print(\"Failed to fetch negative lexicon data\")"
   ],
   "metadata": {
    "id": "1Mw7-aaZHvyd"
   },
   "execution_count": 16,
   "outputs": []
  },
  {
   "cell_type": "code",
   "source": [
    "lexicon_positive = dict()\n",
    "response_pos = requests.get('https://raw.githubusercontent.com/angelmetanosaa/dataset/main/lexicon_positive.csv')\n",
    "\n",
    "if response_pos.status_code == 200:\n",
    "    reader_pos = csv.reader(StringIO(response_pos.text), delimiter=',')\n",
    "\n",
    "    for row in reader_pos:\n",
    "        lexicon_positive[row[0]] = int(row[1])\n",
    "else:\n",
    "    print(\"Failed to fetch positive lexicon data\")"
   ],
   "metadata": {
    "id": "MytfICytMAH6"
   },
   "execution_count": 17,
   "outputs": []
  },
  {
   "cell_type": "code",
   "source": [
    "def sentiment_analysis_lexicon_indonesia(text):\n",
    "\n",
    "    score = 0\n",
    "\n",
    "    if not isinstance(text, str):\n",
    "        return 'neutral'\n",
    "\n",
    "    text_tokens = word_tokenize(text)\n",
    "\n",
    "    for word in text_tokens:\n",
    "        score += lexicon_positive.get(word, 0)\n",
    "        score += lexicon_negative.get(word, 0)\n",
    "\n",
    "    if score > 0:\n",
    "        return 'positive'\n",
    "    elif score < 0:\n",
    "        return 'negative'\n",
    "    else:\n",
    "        return 'neutral'\n",
    "\n",
    "    return score, polarity"
   ],
   "metadata": {
    "id": "67P-tPIibkfF"
   },
   "execution_count": 18,
   "outputs": []
  },
  {
   "cell_type": "code",
   "source": [
    "clean_df['sentiment'] = clean_df['text_akhir'].apply(sentiment_analysis_lexicon_indonesia)\n",
    "print(clean_df['sentiment'].value_counts())"
   ],
   "metadata": {
    "colab": {
     "base_uri": "https://localhost:8080/"
    },
    "id": "Y9-jCso2MLz0",
    "outputId": "e3e864b4-9216-4cd7-a9d7-4e723e31250b"
   },
   "execution_count": 19,
   "outputs": [
    {
     "output_type": "stream",
     "name": "stdout",
     "text": [
      "sentiment\n",
      "neutral     2118\n",
      "negative    1613\n",
      "positive    1451\n",
      "Name: count, dtype: int64\n"
     ]
    }
   ]
  },
  {
   "cell_type": "markdown",
   "source": [
    "Tokenisasi dan Padding"
   ],
   "metadata": {
    "id": "dcWfj71Xb5a5"
   }
  },
  {
   "cell_type": "code",
   "source": [
    "tokenizer = Tokenizer(num_words=5000, oov_token=\"<OOV>\")  # Ukuran vocabulary\n",
    "tokenizer.fit_on_texts(clean_df['text_akhir'])\n",
    "sequences = tokenizer.texts_to_sequences(clean_df['text_akhir'])\n",
    "padded = pad_sequences(sequences, maxlen=200, truncating='post')"
   ],
   "metadata": {
    "id": "qmS2PUAsb7pB"
   },
   "execution_count": 20,
   "outputs": []
  },
  {
   "cell_type": "code",
   "source": [
    "# One-hot encode label\n",
    "sentiment_labels = pd.get_dummies(clean_df['sentiment']).values"
   ],
   "metadata": {
    "id": "mhoQKN9BcO6c"
   },
   "execution_count": 21,
   "outputs": []
  },
  {
   "cell_type": "code",
   "source": [
    "# membagi data\n",
    "X_train, X_test, y_train, y_test = train_test_split(padded, sentiment_labels, test_size=0.2, random_state=42)"
   ],
   "metadata": {
    "id": "EN84GwBhcUSJ"
   },
   "execution_count": 22,
   "outputs": []
  },
  {
   "cell_type": "markdown",
   "source": [
    "Modeling"
   ],
   "metadata": {
    "id": "YpW0_2Aycb_R"
   }
  },
  {
   "cell_type": "code",
   "source": [
    "model_lstm = tf.keras.models.Sequential([\n",
    "    tf.keras.layers.Embedding(5000, 64, input_length=200),\n",
    "    tf.keras.layers.LSTM(64),\n",
    "    tf.keras.layers.Dense(3, activation='softmax')  # 3 kelas: positif, negatif, netral\n",
    "])\n",
    "\n",
    "model_lstm.compile(optimizer='adam', loss='categorical_crossentropy', metrics=['accuracy'])\n",
    "model_lstm.fit(X_train, y_train, epochs=10, validation_data=(X_test, y_test))"
   ],
   "metadata": {
    "colab": {
     "base_uri": "https://localhost:8080/"
    },
    "id": "IwhyHDI6cXel",
    "outputId": "6966619d-6492-40ca-af3a-622ea3e3e098"
   },
   "execution_count": 23,
   "outputs": [
    {
     "output_type": "stream",
     "name": "stdout",
     "text": [
      "Epoch 1/10\n"
     ]
    },
    {
     "output_type": "stream",
     "name": "stderr",
     "text": [
      "/usr/local/lib/python3.11/dist-packages/keras/src/layers/core/embedding.py:90: UserWarning: Argument `input_length` is deprecated. Just remove it.\n",
      "  warnings.warn(\n"
     ]
    },
    {
     "output_type": "stream",
     "name": "stdout",
     "text": [
      "\u001B[1m130/130\u001B[0m \u001B[32m━━━━━━━━━━━━━━━━━━━━\u001B[0m\u001B[37m\u001B[0m \u001B[1m20s\u001B[0m 134ms/step - accuracy: 0.4794 - loss: 0.9821 - val_accuracy: 0.7445 - val_loss: 0.6551\n",
      "Epoch 2/10\n",
      "\u001B[1m130/130\u001B[0m \u001B[32m━━━━━━━━━━━━━━━━━━━━\u001B[0m\u001B[37m\u001B[0m \u001B[1m19s\u001B[0m 122ms/step - accuracy: 0.8190 - loss: 0.5211 - val_accuracy: 0.8312 - val_loss: 0.4763\n",
      "Epoch 3/10\n",
      "\u001B[1m130/130\u001B[0m \u001B[32m━━━━━━━━━━━━━━━━━━━━\u001B[0m\u001B[37m\u001B[0m \u001B[1m21s\u001B[0m 127ms/step - accuracy: 0.9166 - loss: 0.2633 - val_accuracy: 0.8390 - val_loss: 0.4252\n",
      "Epoch 4/10\n",
      "\u001B[1m130/130\u001B[0m \u001B[32m━━━━━━━━━━━━━━━━━━━━\u001B[0m\u001B[37m\u001B[0m \u001B[1m20s\u001B[0m 122ms/step - accuracy: 0.9599 - loss: 0.1485 - val_accuracy: 0.8573 - val_loss: 0.4310\n",
      "Epoch 5/10\n",
      "\u001B[1m130/130\u001B[0m \u001B[32m━━━━━━━━━━━━━━━━━━━━\u001B[0m\u001B[37m\u001B[0m \u001B[1m21s\u001B[0m 123ms/step - accuracy: 0.9740 - loss: 0.0973 - val_accuracy: 0.8582 - val_loss: 0.4279\n",
      "Epoch 6/10\n",
      "\u001B[1m130/130\u001B[0m \u001B[32m━━━━━━━━━━━━━━━━━━━━\u001B[0m\u001B[37m\u001B[0m \u001B[1m22s\u001B[0m 133ms/step - accuracy: 0.9734 - loss: 0.0909 - val_accuracy: 0.8611 - val_loss: 0.4549\n",
      "Epoch 7/10\n",
      "\u001B[1m130/130\u001B[0m \u001B[32m━━━━━━━━━━━━━━━━━━━━\u001B[0m\u001B[37m\u001B[0m \u001B[1m20s\u001B[0m 130ms/step - accuracy: 0.9823 - loss: 0.0708 - val_accuracy: 0.8631 - val_loss: 0.4997\n",
      "Epoch 8/10\n",
      "\u001B[1m130/130\u001B[0m \u001B[32m━━━━━━━━━━━━━━━━━━━━\u001B[0m\u001B[37m\u001B[0m \u001B[1m20s\u001B[0m 122ms/step - accuracy: 0.9838 - loss: 0.0603 - val_accuracy: 0.8592 - val_loss: 0.4954\n",
      "Epoch 9/10\n",
      "\u001B[1m130/130\u001B[0m \u001B[32m━━━━━━━━━━━━━━━━━━━━\u001B[0m\u001B[37m\u001B[0m \u001B[1m16s\u001B[0m 123ms/step - accuracy: 0.9862 - loss: 0.0531 - val_accuracy: 0.8573 - val_loss: 0.5320\n",
      "Epoch 10/10\n",
      "\u001B[1m130/130\u001B[0m \u001B[32m━━━━━━━━━━━━━━━━━━━━\u001B[0m\u001B[37m\u001B[0m \u001B[1m21s\u001B[0m 128ms/step - accuracy: 0.9857 - loss: 0.0582 - val_accuracy: 0.8534 - val_loss: 0.5856\n"
     ]
    },
    {
     "output_type": "execute_result",
     "data": {
      "text/plain": [
       "<keras.src.callbacks.history.History at 0x786f748be090>"
      ]
     },
     "metadata": {},
     "execution_count": 23
    }
   ]
  },
  {
   "cell_type": "markdown",
   "source": [
    "Evaluasi"
   ],
   "metadata": {
    "id": "mA3mnjj7cfrN"
   }
  },
  {
   "cell_type": "code",
   "source": [
    "loss, accuracy = model_lstm.evaluate(X_test, y_test)\n",
    "print(f\"Akurasi Model LSTM: {accuracy}\")"
   ],
   "metadata": {
    "colab": {
     "base_uri": "https://localhost:8080/"
    },
    "id": "-a-Wv-uVcgxx",
    "outputId": "2f18b766-88ee-40f2-b9c7-164828d8df84"
   },
   "execution_count": 24,
   "outputs": [
    {
     "output_type": "stream",
     "name": "stdout",
     "text": [
      "\u001B[1m33/33\u001B[0m \u001B[32m━━━━━━━━━━━━━━━━━━━━\u001B[0m\u001B[37m\u001B[0m \u001B[1m1s\u001B[0m 33ms/step - accuracy: 0.8592 - loss: 0.5321\n",
      "Akurasi Model LSTM: 0.8534233570098877\n"
     ]
    }
   ]
  },
  {
   "cell_type": "markdown",
   "source": [
    "Inferensi"
   ],
   "metadata": {
    "id": "W_BOYD00ch2S"
   }
  },
  {
   "cell_type": "code",
   "source": [
    "def predict_sentiment(text):\n",
    "    text = cleaningText(text)\n",
    "    text = casefoldingText(text)\n",
    "    text = fix_slangwords(text)\n",
    "    text_tokens = tokenizingText(text)\n",
    "    text_filtered = filteringText(text_tokens)\n",
    "    text_final = toSentence(text_filtered)\n",
    "\n",
    "    sequence = tokenizer.texts_to_sequences([text_final])\n",
    "    padded_seq = pad_sequences(sequence, maxlen=200, truncating='post')\n",
    "    prediction = model_lstm.predict(padded_seq)\n",
    "    label_index = np.argmax(prediction)\n",
    "    labels = ['negative', 'neutral', 'positive']\n",
    "    return labels[label_index]"
   ],
   "metadata": {
    "id": "Z4pQfZXlclhp"
   },
   "execution_count": 26,
   "outputs": []
  },
  {
   "cell_type": "code",
   "source": [
    "new_review = input(\"Masukkan Kalimat Baru:\")\n",
    "sentiment = predict_sentiment(new_review)\n",
    "print(f\"Sentimen Ulasan: {sentiment}\")"
   ],
   "metadata": {
    "colab": {
     "base_uri": "https://localhost:8080/"
    },
    "id": "0Kughly1Omcm",
    "outputId": "16dce140-3cee-43fc-8f09-e8712309c0bb"
   },
   "execution_count": 28,
   "outputs": [
    {
     "output_type": "stream",
     "name": "stdout",
     "text": [
      "Masukkan Kalimat Baru:aplikasi buruk\n",
      "\u001B[1m1/1\u001B[0m \u001B[32m━━━━━━━━━━━━━━━━━━━━\u001B[0m\u001B[37m\u001B[0m \u001B[1m0s\u001B[0m 44ms/step\n",
      "Sentimen Ulasan: negative\n"
     ]
    }
   ]
  }
 ]
}
